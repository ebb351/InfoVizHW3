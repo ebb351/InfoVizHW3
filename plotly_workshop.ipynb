{
 "cells": [
  {
   "cell_type": "code",
   "id": "initial_id",
   "metadata": {
    "collapsed": true,
    "ExecuteTime": {
     "end_time": "2024-10-28T20:17:46.703147Z",
     "start_time": "2024-10-28T20:17:46.378592Z"
    }
   },
   "source": [
    "import plotly.express as px\n",
    "import pandas as pd"
   ],
   "outputs": [],
   "execution_count": 2
  },
  {
   "metadata": {
    "ExecuteTime": {
     "end_time": "2024-10-28T20:17:46.730698Z",
     "start_time": "2024-10-28T20:17:46.712318Z"
    }
   },
   "cell_type": "code",
   "source": [
    "df = pd.read_csv('nba_team_stats_00_to_23.csv')\n",
    "df['year'] = df['season'].str.split('-').str[0]\n",
    "df.head()"
   ],
   "id": "d9f0a4b2567b8144",
   "outputs": [
    {
     "data": {
      "text/plain": [
       "   teamstatspk                    Team  games_played  wins  losses  \\\n",
       "0            0          Boston Celtics            82    64      18   \n",
       "1            1          Denver Nuggets            82    57      25   \n",
       "2            2   Oklahoma City Thunder            82    57      25   \n",
       "3            3  Minnesota Timberwolves            82    56      26   \n",
       "4            4             LA Clippers            82    51      31   \n",
       "\n",
       "   win_percentage   Min  points  field_goals_made  field_goals_attempted  ...  \\\n",
       "0           0.780  3966    9887              3601                   7396  ...   \n",
       "1           0.695  3941    9418              3610                   7279  ...   \n",
       "2           0.695  3961    9847              3653                   7324  ...   \n",
       "3           0.683  3961    9264              3383                   6974  ...   \n",
       "4           0.622  3941    9481              3473                   7108  ...   \n",
       "\n",
       "   assists  turnovers  steals  blocks  blocks_attempted  personal_fouls  \\\n",
       "0     2207        979     557     538               304            1326   \n",
       "1     2415       1036     585     456               394            1489   \n",
       "2     2223       1039     694     538               419            1545   \n",
       "3     2184       1162     647     497               371            1544   \n",
       "4     2097       1078     640     413               384            1519   \n",
       "\n",
       "   personal_fouls_drawn  plus_minus   season  year  \n",
       "0                  1416         930  2023-24  2023  \n",
       "1                  1467         431  2023-24  2023  \n",
       "2                  1548         608  2023-24  2023  \n",
       "3                  1630         529  2023-24  2023  \n",
       "4                  1537         269  2023-24  2023  \n",
       "\n",
       "[5 rows x 30 columns]"
      ],
      "text/html": [
       "<div>\n",
       "<style scoped>\n",
       "    .dataframe tbody tr th:only-of-type {\n",
       "        vertical-align: middle;\n",
       "    }\n",
       "\n",
       "    .dataframe tbody tr th {\n",
       "        vertical-align: top;\n",
       "    }\n",
       "\n",
       "    .dataframe thead th {\n",
       "        text-align: right;\n",
       "    }\n",
       "</style>\n",
       "<table border=\"1\" class=\"dataframe\">\n",
       "  <thead>\n",
       "    <tr style=\"text-align: right;\">\n",
       "      <th></th>\n",
       "      <th>teamstatspk</th>\n",
       "      <th>Team</th>\n",
       "      <th>games_played</th>\n",
       "      <th>wins</th>\n",
       "      <th>losses</th>\n",
       "      <th>win_percentage</th>\n",
       "      <th>Min</th>\n",
       "      <th>points</th>\n",
       "      <th>field_goals_made</th>\n",
       "      <th>field_goals_attempted</th>\n",
       "      <th>...</th>\n",
       "      <th>assists</th>\n",
       "      <th>turnovers</th>\n",
       "      <th>steals</th>\n",
       "      <th>blocks</th>\n",
       "      <th>blocks_attempted</th>\n",
       "      <th>personal_fouls</th>\n",
       "      <th>personal_fouls_drawn</th>\n",
       "      <th>plus_minus</th>\n",
       "      <th>season</th>\n",
       "      <th>year</th>\n",
       "    </tr>\n",
       "  </thead>\n",
       "  <tbody>\n",
       "    <tr>\n",
       "      <th>0</th>\n",
       "      <td>0</td>\n",
       "      <td>Boston Celtics</td>\n",
       "      <td>82</td>\n",
       "      <td>64</td>\n",
       "      <td>18</td>\n",
       "      <td>0.780</td>\n",
       "      <td>3966</td>\n",
       "      <td>9887</td>\n",
       "      <td>3601</td>\n",
       "      <td>7396</td>\n",
       "      <td>...</td>\n",
       "      <td>2207</td>\n",
       "      <td>979</td>\n",
       "      <td>557</td>\n",
       "      <td>538</td>\n",
       "      <td>304</td>\n",
       "      <td>1326</td>\n",
       "      <td>1416</td>\n",
       "      <td>930</td>\n",
       "      <td>2023-24</td>\n",
       "      <td>2023</td>\n",
       "    </tr>\n",
       "    <tr>\n",
       "      <th>1</th>\n",
       "      <td>1</td>\n",
       "      <td>Denver Nuggets</td>\n",
       "      <td>82</td>\n",
       "      <td>57</td>\n",
       "      <td>25</td>\n",
       "      <td>0.695</td>\n",
       "      <td>3941</td>\n",
       "      <td>9418</td>\n",
       "      <td>3610</td>\n",
       "      <td>7279</td>\n",
       "      <td>...</td>\n",
       "      <td>2415</td>\n",
       "      <td>1036</td>\n",
       "      <td>585</td>\n",
       "      <td>456</td>\n",
       "      <td>394</td>\n",
       "      <td>1489</td>\n",
       "      <td>1467</td>\n",
       "      <td>431</td>\n",
       "      <td>2023-24</td>\n",
       "      <td>2023</td>\n",
       "    </tr>\n",
       "    <tr>\n",
       "      <th>2</th>\n",
       "      <td>2</td>\n",
       "      <td>Oklahoma City Thunder</td>\n",
       "      <td>82</td>\n",
       "      <td>57</td>\n",
       "      <td>25</td>\n",
       "      <td>0.695</td>\n",
       "      <td>3961</td>\n",
       "      <td>9847</td>\n",
       "      <td>3653</td>\n",
       "      <td>7324</td>\n",
       "      <td>...</td>\n",
       "      <td>2223</td>\n",
       "      <td>1039</td>\n",
       "      <td>694</td>\n",
       "      <td>538</td>\n",
       "      <td>419</td>\n",
       "      <td>1545</td>\n",
       "      <td>1548</td>\n",
       "      <td>608</td>\n",
       "      <td>2023-24</td>\n",
       "      <td>2023</td>\n",
       "    </tr>\n",
       "    <tr>\n",
       "      <th>3</th>\n",
       "      <td>3</td>\n",
       "      <td>Minnesota Timberwolves</td>\n",
       "      <td>82</td>\n",
       "      <td>56</td>\n",
       "      <td>26</td>\n",
       "      <td>0.683</td>\n",
       "      <td>3961</td>\n",
       "      <td>9264</td>\n",
       "      <td>3383</td>\n",
       "      <td>6974</td>\n",
       "      <td>...</td>\n",
       "      <td>2184</td>\n",
       "      <td>1162</td>\n",
       "      <td>647</td>\n",
       "      <td>497</td>\n",
       "      <td>371</td>\n",
       "      <td>1544</td>\n",
       "      <td>1630</td>\n",
       "      <td>529</td>\n",
       "      <td>2023-24</td>\n",
       "      <td>2023</td>\n",
       "    </tr>\n",
       "    <tr>\n",
       "      <th>4</th>\n",
       "      <td>4</td>\n",
       "      <td>LA Clippers</td>\n",
       "      <td>82</td>\n",
       "      <td>51</td>\n",
       "      <td>31</td>\n",
       "      <td>0.622</td>\n",
       "      <td>3941</td>\n",
       "      <td>9481</td>\n",
       "      <td>3473</td>\n",
       "      <td>7108</td>\n",
       "      <td>...</td>\n",
       "      <td>2097</td>\n",
       "      <td>1078</td>\n",
       "      <td>640</td>\n",
       "      <td>413</td>\n",
       "      <td>384</td>\n",
       "      <td>1519</td>\n",
       "      <td>1537</td>\n",
       "      <td>269</td>\n",
       "      <td>2023-24</td>\n",
       "      <td>2023</td>\n",
       "    </tr>\n",
       "  </tbody>\n",
       "</table>\n",
       "<p>5 rows × 30 columns</p>\n",
       "</div>"
      ]
     },
     "execution_count": 3,
     "metadata": {},
     "output_type": "execute_result"
    }
   ],
   "execution_count": 3
  },
  {
   "metadata": {
    "ExecuteTime": {
     "end_time": "2024-10-28T20:17:46.748745Z",
     "start_time": "2024-10-28T20:17:46.743946Z"
    }
   },
   "cell_type": "code",
   "source": [
    "df.drop(columns=['teamstatspk'], inplace=True)\n",
    "df.columns"
   ],
   "id": "8669354bc17a1519",
   "outputs": [
    {
     "data": {
      "text/plain": [
       "Index(['Team', 'games_played', 'wins', 'losses', 'win_percentage', 'Min',\n",
       "       'points', 'field_goals_made', 'field_goals_attempted',\n",
       "       'field_goal_percentage', 'three_pointers_made',\n",
       "       'three_pointers_attempted', 'three_point_percentage',\n",
       "       'free_throws_made', 'free_throw_attempted', 'free_throw_percentage',\n",
       "       'offensive_rebounds', 'defensive_rebounds', 'rebounds', 'assists',\n",
       "       'turnovers', 'steals', 'blocks', 'blocks_attempted', 'personal_fouls',\n",
       "       'personal_fouls_drawn', 'plus_minus', 'season', 'year'],\n",
       "      dtype='object')"
      ]
     },
     "execution_count": 4,
     "metadata": {},
     "output_type": "execute_result"
    }
   ],
   "execution_count": 4
  },
  {
   "metadata": {
    "ExecuteTime": {
     "end_time": "2024-10-28T20:17:46.815292Z",
     "start_time": "2024-10-28T20:17:46.812329Z"
    }
   },
   "cell_type": "code",
   "source": [
    "print(df['win_percentage'].min())\n",
    "print(df['win_percentage'].max())"
   ],
   "id": "1ce1f77220504f07",
   "outputs": [
    {
     "name": "stdout",
     "output_type": "stream",
     "text": [
      "0.106\n",
      "0.89\n"
     ]
    }
   ],
   "execution_count": 5
  },
  {
   "metadata": {
    "ExecuteTime": {
     "end_time": "2024-10-28T20:17:57.296918Z",
     "start_time": "2024-10-28T20:17:57.293594Z"
    }
   },
   "cell_type": "code",
   "source": [
    "x_axis_options = ['points', 'field_goal_percentage', 'three_pointers_attempted', \n",
    "                  'three_point_percentage', 'rebounds', 'assists', 'turnovers', 'free_throw_attempted']\n",
    "\n",
    "# Loop through each x-axis option and print the min and max values\n",
    "for column in x_axis_options:\n",
    "    print(f'{column}: Min = {df[column].min()}, Max = {df[column].max()}')\n"
   ],
   "id": "5a76aa6a2732b6ea",
   "outputs": [
    {
     "name": "stdout",
     "output_type": "stream",
     "text": [
      "points: Min = 5739, Max = 10110\n",
      "field_goal_percentage: Min = 40.8, Max = 50.7\n",
      "three_pointers_attempted: Min = 641, Max = 3721\n",
      "three_point_percentage: Min = 27.8, Max = 41.6\n",
      "rebounds: Min = 2560, Max = 4078\n",
      "assists: Min = 1224, Max = 2522\n",
      "turnovers: Min = 738, Max = 1514\n",
      "free_throw_attempted: Min = 1198, Max = 2587\n"
     ]
    }
   ],
   "execution_count": 7
  },
  {
   "metadata": {
    "ExecuteTime": {
     "end_time": "2024-10-28T20:17:47.364906Z",
     "start_time": "2024-10-25T17:19:47.466173Z"
    }
   },
   "cell_type": "code",
   "source": "print(df['Team'].unique())",
   "id": "a4b612e9e703d8d8",
   "outputs": [
    {
     "name": "stdout",
     "output_type": "stream",
     "text": [
      "['Boston Celtics' 'Denver Nuggets' 'Oklahoma City Thunder'\n",
      " 'Minnesota Timberwolves' 'LA Clippers' 'Dallas Mavericks'\n",
      " 'New York Knicks' 'Milwaukee Bucks' 'New Orleans Pelicans' 'Phoenix Suns'\n",
      " 'Cleveland Cavaliers' 'Indiana Pacers' 'Los Angeles Lakers'\n",
      " 'Orlando Magic' 'Philadelphia 76ers' 'Golden State Warriors' 'Miami Heat'\n",
      " 'Sacramento Kings' 'Houston Rockets' 'Chicago Bulls' 'Atlanta Hawks'\n",
      " 'Brooklyn Nets' 'Utah Jazz' 'Memphis Grizzlies' 'Toronto Raptors'\n",
      " 'San Antonio Spurs' 'Charlotte Hornets' 'Portland Trail Blazers'\n",
      " 'Washington Wizards' 'Detroit Pistons' 'Los Angeles Clippers'\n",
      " 'Charlotte Bobcats' 'New Orleans Hornets' 'New Jersey Nets'\n",
      " 'Seattle SuperSonics' 'New Orleans/Oklahoma City Hornets'\n",
      " 'Vancouver Grizzlies']\n"
     ]
    }
   ],
   "execution_count": 8
  }
 ],
 "metadata": {
  "kernelspec": {
   "display_name": "Python 3",
   "language": "python",
   "name": "python3"
  },
  "language_info": {
   "codemirror_mode": {
    "name": "ipython",
    "version": 2
   },
   "file_extension": ".py",
   "mimetype": "text/x-python",
   "name": "python",
   "nbconvert_exporter": "python",
   "pygments_lexer": "ipython2",
   "version": "2.7.6"
  }
 },
 "nbformat": 4,
 "nbformat_minor": 5
}
